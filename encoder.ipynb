{
 "cells": [
  {
   "cell_type": "code",
   "execution_count": 4,
   "metadata": {},
   "outputs": [
    {
     "name": "stdout",
     "output_type": "stream",
     "text": [
      "Writing text_encoder.py\n"
     ]
    }
   ],
   "source": [
    "%%writefile text_encoder.py\n",
    "import tensorflow_hub as hub\n",
    "import pika\n",
    "import numpy as np\n",
    "model = hub.load('./tfhub/')\n",
    "text_repr_path = './texts/'\n",
    "\n",
    "def callback(ch, method, properties, body):\n",
    "    message = str(body.decode('utf8'))\n",
    "    np.save(text_repr_path + message.replace(' ', '_') + '.npy', model([message +' i']).numpy(), allow_pickle=False)\n",
    "    \n",
    "\n",
    "connection = pika.BlockingConnection(pika.ConnectionParameters())\n",
    "channel = connection.channel()\n",
    "\n",
    "channel.queue_declare(queue='toenc')\n",
    "\n",
    "channel.basic_consume(queue= 'toenc', on_message_callback=callback, auto_ack=True)\n",
    "\n",
    "channel.start_consuming()"
   ]
  },
  {
   "cell_type": "code",
   "execution_count": null,
   "metadata": {},
   "outputs": [],
   "source": []
  }
 ],
 "metadata": {
  "kernelspec": {
   "display_name": "Python 3",
   "language": "python",
   "name": "python3"
  },
  "language_info": {
   "codemirror_mode": {
    "name": "ipython",
    "version": 3
   },
   "file_extension": ".py",
   "mimetype": "text/x-python",
   "name": "python",
   "nbconvert_exporter": "python",
   "pygments_lexer": "ipython3",
   "version": "3.7.9"
  }
 },
 "nbformat": 4,
 "nbformat_minor": 4
}
