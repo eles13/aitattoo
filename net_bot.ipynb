{
 "cells": [
  {
   "cell_type": "code",
   "execution_count": 20,
   "metadata": {},
   "outputs": [],
   "source": [
    "import telebot\n",
    "from telebot import TeleBot\n",
    "from telebot import types\n",
    "import os\n",
    "import time\n",
    "import logging\n",
    "from pymorphy2 import MorphAnalyzer\n",
    "morph = MorphAnalyzer() \n",
    "logging.basicConfig(filename=\"botlog.log\", level=logging.INFO, filemode='w')\n",
    "token = '1277130373:AAH7oKdzkHwopPmwVluIIVPFfU_rugTedRM'\n",
    "bot = TeleBot(token)\n",
    "@bot.message_handler(commands = ['start'])\n",
    "def startBot(message):\n",
    "    logging.info('Preparing to reply to \"start\" command ' + str(message.chat.id))\n",
    "    bot.reply_to(message,'Hi, this is an ai tattoo bot! Send me a description of your desirable picture and there will be magic')\n",
    "    logging.info('Replied to \"start\" command ' + str(message.chat.id))\n",
    "    return\n",
    "\n",
    "@bot.message_handler(commands = ['new'])\n",
    "def new_sketch(message):\n",
    "    logging.info('\"new\" sketch command received ' + str(message.chat.id))\n",
    "    bot.send_message(message.chat.id, 'Send me a description of your desirable tattoo')\n",
    "    logging.info('sent reply to \"new\" command successfully, waiting for text')\n",
    "    bot.register_next_step_handler(message, getText)\n",
    "    return\n",
    "    \n",
    "def getText(message):\n",
    "    text = ' '.join(list(map(lambda x : morph.parse(x)[0].normal_form, list(filter(lambda x: len(x) > 0, \\\n",
    "                                                                       str(message.text).split(' '))))))\n",
    "    bot.send_message(message.chat.id, 'There is no net here, but there is a normal form of your message \\n' + text)\n",
    "\n",
    "bot.polling(none_stop=True, interval = 0)\n",
    "\n"
   ]
  },
  {
   "cell_type": "code",
   "execution_count": null,
   "metadata": {},
   "outputs": [],
   "source": []
  }
 ],
 "metadata": {
  "kernelspec": {
   "display_name": "Python 3",
   "language": "python",
   "name": "python3"
  },
  "language_info": {
   "codemirror_mode": {
    "name": "ipython",
    "version": 3
   },
   "file_extension": ".py",
   "mimetype": "text/x-python",
   "name": "python",
   "nbconvert_exporter": "python",
   "pygments_lexer": "ipython3",
   "version": "3.7.5"
  }
 },
 "nbformat": 4,
 "nbformat_minor": 2
}
