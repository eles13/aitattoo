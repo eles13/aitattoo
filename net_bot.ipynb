{
 "cells": [
  {
   "cell_type": "code",
   "execution_count": 1,
   "metadata": {},
   "outputs": [
    {
     "name": "stdout",
     "output_type": "stream",
     "text": [
      "Model: \"model\"\n",
      "__________________________________________________________________________________________________\n",
      "Layer (type)                    Output Shape         Param #     Connected to                     \n",
      "==================================================================================================\n",
      "input_1 (InputLayer)            [(None, 200)]        0                                            \n",
      "__________________________________________________________________________________________________\n",
      "input_2 (InputLayer)            [(None, 768)]        0                                            \n",
      "__________________________________________________________________________________________________\n",
      "dense (Dense)                   (None, 1024)         205824      input_1[0][0]                    \n",
      "__________________________________________________________________________________________________\n",
      "dense_1 (Dense)                 (None, 1024)         787456      input_2[0][0]                    \n",
      "__________________________________________________________________________________________________\n",
      "concatenate (Concatenate)       (None, 2048)         0           dense[0][0]                      \n",
      "                                                                 dense_1[0][0]                    \n",
      "__________________________________________________________________________________________________\n",
      "activation_4 (Activation)       (None, 2048)         0           concatenate[0][0]                \n",
      "__________________________________________________________________________________________________\n",
      "dense_2 (Dense)                 (None, 131072)       268566528   activation_4[0][0]               \n",
      "__________________________________________________________________________________________________\n",
      "batch_normalization (BatchNorma (None, 131072)       524288      dense_2[0][0]                    \n",
      "__________________________________________________________________________________________________\n",
      "activation_5 (Activation)       (None, 131072)       0           batch_normalization[0][0]        \n",
      "__________________________________________________________________________________________________\n",
      "reshape (Reshape)               (None, 32, 32, 128)  0           activation_5[0][0]               \n",
      "__________________________________________________________________________________________________\n",
      "up_sampling2d (UpSampling2D)    (None, 64, 64, 128)  0           reshape[0][0]                    \n",
      "__________________________________________________________________________________________________\n",
      "conv2d (Conv2D)                 (None, 64, 64, 64)   204864      up_sampling2d[0][0]              \n",
      "__________________________________________________________________________________________________\n",
      "activation_6 (Activation)       (None, 64, 64, 64)   0           conv2d[0][0]                     \n",
      "__________________________________________________________________________________________________\n",
      "up_sampling2d_1 (UpSampling2D)  (None, 128, 128, 64) 0           activation_6[0][0]               \n",
      "__________________________________________________________________________________________________\n",
      "conv2d_1 (Conv2D)               (None, 128, 128, 3)  4803        up_sampling2d_1[0][0]            \n",
      "__________________________________________________________________________________________________\n",
      "activation_7 (Activation)       (None, 128, 128, 3)  0           conv2d_1[0][0]                   \n",
      "==================================================================================================\n",
      "Total params: 270,293,763\n",
      "Trainable params: 270,031,619\n",
      "Non-trainable params: 262,144\n",
      "__________________________________________________________________________________________________\n",
      "generator:  None\n",
      "Model: \"model_1\"\n",
      "__________________________________________________________________________________________________\n",
      "Layer (type)                    Output Shape         Param #     Connected to                     \n",
      "==================================================================================================\n",
      "input_4 (InputLayer)            [(None, 128, 128, 3) 0                                            \n",
      "__________________________________________________________________________________________________\n",
      "conv2d_2 (Conv2D)               (None, 128, 128, 64) 4864        input_4[0][0]                    \n",
      "__________________________________________________________________________________________________\n",
      "activation_8 (Activation)       (None, 128, 128, 64) 0           conv2d_2[0][0]                   \n",
      "__________________________________________________________________________________________________\n",
      "max_pooling2d (MaxPooling2D)    (None, 64, 64, 64)   0           activation_8[0][0]               \n",
      "__________________________________________________________________________________________________\n",
      "conv2d_3 (Conv2D)               (None, 60, 60, 128)  204928      max_pooling2d[0][0]              \n",
      "__________________________________________________________________________________________________\n",
      "activation_9 (Activation)       (None, 60, 60, 128)  0           conv2d_3[0][0]                   \n",
      "__________________________________________________________________________________________________\n",
      "max_pooling2d_1 (MaxPooling2D)  (None, 30, 30, 128)  0           activation_9[0][0]               \n",
      "__________________________________________________________________________________________________\n",
      "flatten (Flatten)               (None, 115200)       0           max_pooling2d_1[0][0]            \n",
      "__________________________________________________________________________________________________\n",
      "input_3 (InputLayer)            [(None, 768)]        0                                            \n",
      "__________________________________________________________________________________________________\n",
      "dense_4 (Dense)                 (None, 1024)         117965824   flatten[0][0]                    \n",
      "__________________________________________________________________________________________________\n",
      "dense_3 (Dense)                 (None, 1024)         787456      input_3[0][0]                    \n",
      "__________________________________________________________________________________________________\n",
      "concatenate_1 (Concatenate)     (None, 2048)         0           dense_4[0][0]                    \n",
      "                                                                 dense_3[0][0]                    \n",
      "__________________________________________________________________________________________________\n",
      "activation_10 (Activation)      (None, 2048)         0           concatenate_1[0][0]              \n",
      "__________________________________________________________________________________________________\n",
      "dense_5 (Dense)                 (None, 1)            2049        activation_10[0][0]              \n",
      "__________________________________________________________________________________________________\n",
      "activation_11 (Activation)      (None, 1)            0           dense_5[0][0]                    \n",
      "==================================================================================================\n",
      "Total params: 118,965,121\n",
      "Trainable params: 118,965,121\n",
      "Non-trainable params: 0\n",
      "__________________________________________________________________________________________________\n",
      "discriminator:  None\n",
      "Model: \"model_2\"\n",
      "__________________________________________________________________________________________________\n",
      "Layer (type)                    Output Shape         Param #     Connected to                     \n",
      "==================================================================================================\n",
      "input_1 (InputLayer)            [(None, 200)]        0                                            \n",
      "__________________________________________________________________________________________________\n",
      "input_2 (InputLayer)            [(None, 768)]        0                                            \n",
      "__________________________________________________________________________________________________\n",
      "dense (Dense)                   (None, 1024)         205824      input_1[0][0]                    \n",
      "__________________________________________________________________________________________________\n",
      "dense_1 (Dense)                 (None, 1024)         787456      input_2[0][0]                    \n",
      "__________________________________________________________________________________________________\n",
      "concatenate (Concatenate)       (None, 2048)         0           dense[0][0]                      \n",
      "                                                                 dense_1[0][0]                    \n",
      "__________________________________________________________________________________________________\n",
      "activation_4 (Activation)       (None, 2048)         0           concatenate[0][0]                \n",
      "__________________________________________________________________________________________________\n",
      "dense_2 (Dense)                 (None, 131072)       268566528   activation_4[0][0]               \n",
      "__________________________________________________________________________________________________\n",
      "batch_normalization (BatchNorma (None, 131072)       524288      dense_2[0][0]                    \n",
      "__________________________________________________________________________________________________\n",
      "activation_5 (Activation)       (None, 131072)       0           batch_normalization[0][0]        \n",
      "__________________________________________________________________________________________________\n",
      "reshape (Reshape)               (None, 32, 32, 128)  0           activation_5[0][0]               \n",
      "__________________________________________________________________________________________________\n",
      "up_sampling2d (UpSampling2D)    (None, 64, 64, 128)  0           reshape[0][0]                    \n",
      "__________________________________________________________________________________________________\n",
      "conv2d (Conv2D)                 (None, 64, 64, 64)   204864      up_sampling2d[0][0]              \n",
      "__________________________________________________________________________________________________\n",
      "activation_6 (Activation)       (None, 64, 64, 64)   0           conv2d[0][0]                     \n",
      "__________________________________________________________________________________________________\n",
      "up_sampling2d_1 (UpSampling2D)  (None, 128, 128, 64) 0           activation_6[0][0]               \n",
      "__________________________________________________________________________________________________\n",
      "conv2d_1 (Conv2D)               (None, 128, 128, 3)  4803        up_sampling2d_1[0][0]            \n",
      "__________________________________________________________________________________________________\n",
      "activation_7 (Activation)       (None, 128, 128, 3)  0           conv2d_1[0][0]                   \n",
      "__________________________________________________________________________________________________\n",
      "model_1 (Model)                 (None, 1)            118965121   activation_7[0][0]               \n",
      "                                                                 input_2[0][0]                    \n",
      "==================================================================================================\n",
      "Total params: 389,258,884\n",
      "Trainable params: 270,031,619\n",
      "Non-trainable params: 119,227,265\n",
      "__________________________________________________________________________________________________\n",
      "generator-discriminator:  None\n"
     ]
    },
    {
     "data": {
      "application/vnd.jupyter.widget-view+json": {
       "model_id": "0269e285191d419a83ec85d555be7276",
       "version_major": 2,
       "version_minor": 0
      },
      "text/plain": [
       "HBox(children=(IntProgress(value=0, description='Batches', max=1, style=ProgressStyle(description_width='initi…"
      ]
     },
     "metadata": {},
     "output_type": "display_data"
    },
    {
     "name": "stdout",
     "output_type": "stream",
     "text": [
      "\n"
     ]
    },
    {
     "data": {
      "application/vnd.jupyter.widget-view+json": {
       "model_id": "3413046d26a04b58ae8fd21e4a75642b",
       "version_major": 2,
       "version_minor": 0
      },
      "text/plain": [
       "HBox(children=(IntProgress(value=0, description='Batches', max=1, style=ProgressStyle(description_width='initi…"
      ]
     },
     "metadata": {},
     "output_type": "display_data"
    },
    {
     "name": "stdout",
     "output_type": "stream",
     "text": [
      "\n"
     ]
    },
    {
     "data": {
      "application/vnd.jupyter.widget-view+json": {
       "model_id": "cd27446b74364ce0858ef2a6cd25dee8",
       "version_major": 2,
       "version_minor": 0
      },
      "text/plain": [
       "HBox(children=(IntProgress(value=0, description='Batches', max=1, style=ProgressStyle(description_width='initi…"
      ]
     },
     "metadata": {},
     "output_type": "display_data"
    },
    {
     "name": "stdout",
     "output_type": "stream",
     "text": [
      "\n"
     ]
    },
    {
     "data": {
      "application/vnd.jupyter.widget-view+json": {
       "model_id": "b5940a66e688410785c470c2201e71a1",
       "version_major": 2,
       "version_minor": 0
      },
      "text/plain": [
       "HBox(children=(IntProgress(value=0, description='Batches', max=1, style=ProgressStyle(description_width='initi…"
      ]
     },
     "metadata": {},
     "output_type": "display_data"
    },
    {
     "name": "stdout",
     "output_type": "stream",
     "text": [
      "\n"
     ]
    },
    {
     "data": {
      "application/vnd.jupyter.widget-view+json": {
       "model_id": "abcac8f745ea4d51bb01291e9ed481a2",
       "version_major": 2,
       "version_minor": 0
      },
      "text/plain": [
       "HBox(children=(IntProgress(value=0, description='Batches', max=1, style=ProgressStyle(description_width='initi…"
      ]
     },
     "metadata": {},
     "output_type": "display_data"
    },
    {
     "name": "stdout",
     "output_type": "stream",
     "text": [
      "\n"
     ]
    },
    {
     "data": {
      "application/vnd.jupyter.widget-view+json": {
       "model_id": "372bf3b4561d4967bd6546a0cdb9eb6e",
       "version_major": 2,
       "version_minor": 0
      },
      "text/plain": [
       "HBox(children=(IntProgress(value=0, description='Batches', max=1, style=ProgressStyle(description_width='initi…"
      ]
     },
     "metadata": {},
     "output_type": "display_data"
    },
    {
     "name": "stdout",
     "output_type": "stream",
     "text": [
      "\n"
     ]
    },
    {
     "data": {
      "application/vnd.jupyter.widget-view+json": {
       "model_id": "245e6671c120493896a155bc976467bd",
       "version_major": 2,
       "version_minor": 0
      },
      "text/plain": [
       "HBox(children=(IntProgress(value=0, description='Batches', max=1, style=ProgressStyle(description_width='initi…"
      ]
     },
     "metadata": {},
     "output_type": "display_data"
    },
    {
     "name": "stdout",
     "output_type": "stream",
     "text": [
      "\n"
     ]
    },
    {
     "data": {
      "application/vnd.jupyter.widget-view+json": {
       "model_id": "7e7bb8cf756846ec82fe23c19e70a3cc",
       "version_major": 2,
       "version_minor": 0
      },
      "text/plain": [
       "HBox(children=(IntProgress(value=0, description='Batches', max=1, style=ProgressStyle(description_width='initi…"
      ]
     },
     "metadata": {},
     "output_type": "display_data"
    },
    {
     "name": "stdout",
     "output_type": "stream",
     "text": [
      "\n"
     ]
    },
    {
     "data": {
      "application/vnd.jupyter.widget-view+json": {
       "model_id": "b734643c065f4426956a75cf03a8dd32",
       "version_major": 2,
       "version_minor": 0
      },
      "text/plain": [
       "HBox(children=(IntProgress(value=0, description='Batches', max=1, style=ProgressStyle(description_width='initi…"
      ]
     },
     "metadata": {},
     "output_type": "display_data"
    },
    {
     "name": "stdout",
     "output_type": "stream",
     "text": [
      "\n"
     ]
    },
    {
     "data": {
      "application/vnd.jupyter.widget-view+json": {
       "model_id": "4a9ed882ff4f4922af4c1e20c5889882",
       "version_major": 2,
       "version_minor": 0
      },
      "text/plain": [
       "HBox(children=(IntProgress(value=0, description='Batches', max=1, style=ProgressStyle(description_width='initi…"
      ]
     },
     "metadata": {},
     "output_type": "display_data"
    },
    {
     "name": "stdout",
     "output_type": "stream",
     "text": [
      "\n"
     ]
    },
    {
     "data": {
      "application/vnd.jupyter.widget-view+json": {
       "model_id": "398663d821474edcb361b4fc89b3e13e",
       "version_major": 2,
       "version_minor": 0
      },
      "text/plain": [
       "HBox(children=(IntProgress(value=0, description='Batches', max=1, style=ProgressStyle(description_width='initi…"
      ]
     },
     "metadata": {},
     "output_type": "display_data"
    },
    {
     "name": "stdout",
     "output_type": "stream",
     "text": [
      "\n"
     ]
    },
    {
     "data": {
      "application/vnd.jupyter.widget-view+json": {
       "model_id": "1ee7b0957f544fd3805f847b68f31470",
       "version_major": 2,
       "version_minor": 0
      },
      "text/plain": [
       "HBox(children=(IntProgress(value=0, description='Batches', max=1, style=ProgressStyle(description_width='initi…"
      ]
     },
     "metadata": {},
     "output_type": "display_data"
    },
    {
     "name": "stdout",
     "output_type": "stream",
     "text": [
      "\n"
     ]
    },
    {
     "data": {
      "application/vnd.jupyter.widget-view+json": {
       "model_id": "535961e841bd4aa5b37369e5b5605780",
       "version_major": 2,
       "version_minor": 0
      },
      "text/plain": [
       "HBox(children=(IntProgress(value=0, description='Batches', max=1, style=ProgressStyle(description_width='initi…"
      ]
     },
     "metadata": {},
     "output_type": "display_data"
    },
    {
     "name": "stdout",
     "output_type": "stream",
     "text": [
      "\n"
     ]
    },
    {
     "data": {
      "application/vnd.jupyter.widget-view+json": {
       "model_id": "72cff137b7e74dbfa4b769a2883df00c",
       "version_major": 2,
       "version_minor": 0
      },
      "text/plain": [
       "HBox(children=(IntProgress(value=0, description='Batches', max=1, style=ProgressStyle(description_width='initi…"
      ]
     },
     "metadata": {},
     "output_type": "display_data"
    },
    {
     "name": "stdout",
     "output_type": "stream",
     "text": [
      "\n"
     ]
    },
    {
     "data": {
      "application/vnd.jupyter.widget-view+json": {
       "model_id": "c6517dbd2c0e455c97bb43c1945d61be",
       "version_major": 2,
       "version_minor": 0
      },
      "text/plain": [
       "HBox(children=(IntProgress(value=0, description='Batches', max=1, style=ProgressStyle(description_width='initi…"
      ]
     },
     "metadata": {},
     "output_type": "display_data"
    },
    {
     "name": "stdout",
     "output_type": "stream",
     "text": [
      "\n"
     ]
    },
    {
     "data": {
      "application/vnd.jupyter.widget-view+json": {
       "model_id": "1b6ee78e82864edb8ef29c9a27bb78a8",
       "version_major": 2,
       "version_minor": 0
      },
      "text/plain": [
       "HBox(children=(IntProgress(value=0, description='Batches', max=1, style=ProgressStyle(description_width='initi…"
      ]
     },
     "metadata": {},
     "output_type": "display_data"
    },
    {
     "name": "stdout",
     "output_type": "stream",
     "text": [
      "\n"
     ]
    },
    {
     "data": {
      "application/vnd.jupyter.widget-view+json": {
       "model_id": "286b252ca3894b46963305baa9d6c93a",
       "version_major": 2,
       "version_minor": 0
      },
      "text/plain": [
       "HBox(children=(IntProgress(value=0, description='Batches', max=1, style=ProgressStyle(description_width='initi…"
      ]
     },
     "metadata": {},
     "output_type": "display_data"
    },
    {
     "name": "stdout",
     "output_type": "stream",
     "text": [
      "\n"
     ]
    },
    {
     "data": {
      "application/vnd.jupyter.widget-view+json": {
       "model_id": "e556dff9e70344be8901d90f21627594",
       "version_major": 2,
       "version_minor": 0
      },
      "text/plain": [
       "HBox(children=(IntProgress(value=0, description='Batches', max=1, style=ProgressStyle(description_width='initi…"
      ]
     },
     "metadata": {},
     "output_type": "display_data"
    },
    {
     "name": "stdout",
     "output_type": "stream",
     "text": [
      "\n"
     ]
    },
    {
     "data": {
      "application/vnd.jupyter.widget-view+json": {
       "model_id": "e78c6fb48a7c45fbbe63f186fae6bd21",
       "version_major": 2,
       "version_minor": 0
      },
      "text/plain": [
       "HBox(children=(IntProgress(value=0, description='Batches', max=1, style=ProgressStyle(description_width='initi…"
      ]
     },
     "metadata": {},
     "output_type": "display_data"
    },
    {
     "name": "stdout",
     "output_type": "stream",
     "text": [
      "\n"
     ]
    },
    {
     "data": {
      "application/vnd.jupyter.widget-view+json": {
       "model_id": "2f3d004fdf094d43bf187d3ec2c4299e",
       "version_major": 2,
       "version_minor": 0
      },
      "text/plain": [
       "HBox(children=(IntProgress(value=0, description='Batches', max=1, style=ProgressStyle(description_width='initi…"
      ]
     },
     "metadata": {},
     "output_type": "display_data"
    },
    {
     "name": "stdout",
     "output_type": "stream",
     "text": [
      "\n"
     ]
    }
   ],
   "source": [
    "#%%writefile net_bot.py\n",
    "import telebot\n",
    "from telebot import TeleBot\n",
    "from telebot import types\n",
    "import os\n",
    "import time\n",
    "import logging\n",
    "from pymorphy2 import MorphAnalyzer\n",
    "from keras_text_to_image.library.dcgan import DCGan\n",
    "from keras_text_to_image.library.utility.image_utils import img_from_normalized_img\n",
    "from keras_text_to_image.library.utility.img_cap_loader import load_normalized_img_and_its_text\n",
    "from google_drive_downloader import GoogleDriveDownloader as gdd\n",
    "\n",
    "#################################################################\n",
    "#############################SETUP###############################\n",
    "#################################################################\n",
    "pic_path = './generated_pics/'\n",
    "\n",
    "all_models_path = './pokemons/demo/models/'\n",
    "\n",
    "current_model_path = all_models_path + 'model_' + str(len(os.listdir(all_models_path)) - 1)\n",
    "\n",
    "try:\n",
    "    os.mkdir(pic_path)\n",
    "except: \n",
    "    pass\n",
    "\n",
    "morph = MorphAnalyzer() \n",
    "logging.basicConfig(filename=\"botlog.log\", level=logging.INFO, filemode='w')\n",
    "token = '1277130373:AAH7oKdzkHwopPmwVluIIVPFfU_rugTedRM'\n",
    "bot = TeleBot(token)\n",
    "\n",
    "gan = DCGan()\n",
    "gan.load_model(current_model_path)\n",
    "\n",
    "logging.info('---started---')\n",
    "running = False\n",
    "#################################################################\n",
    "\n",
    "\n",
    "@bot.message_handler(commands = ['start'])\n",
    "def startBot(message):\n",
    "    global running\n",
    "    logging.info('Preparing to reply to \"start\" command ' + str(message.chat.id))\n",
    "    bot.reply_to(message,'Hi, this is an ai tattoo bot! Send me a description of your desirable picture and there will be magic')\n",
    "    logging.info('Replied to \"start\" command ' + str(message.chat.id))\n",
    "    running = True\n",
    "    return\n",
    "\n",
    "# @bot.message_handler(func = lambda x : True, content_types = ['text'])\n",
    "# def new_sketch(message):\n",
    "#     logging.info('\"new\" sketch command received ' + str(message.chat.id))\n",
    "#     bot.send_message(message.chat.id, 'Send me a description of your desirable tattoo')\n",
    "#     logging.info('sent reply to \"new\" command successfully, waiting for text // ' + str(message.chat.id))\n",
    "#     bot.register_next_step_handler(message, getText)\n",
    "#     return\n",
    "\n",
    "@bot.message_handler(func = lambda x : True, content_types = ['text'])\n",
    "def getText(message):\n",
    "    \n",
    "    if not running:\n",
    "        return\n",
    "    #text = ' '.join(list(map(lambda x : morph.parse(x)[0].normal_form, list(filter(lambda x: len(x) > 0, \\\n",
    "    #                                                                   str(message.text).split(' '))))))\n",
    "    text = str(message.text)\n",
    "    logging.info('Received text ' + text + ' // ' + str(message.chat.id))\n",
    "    \n",
    "    try:\n",
    "        generated_image = gan.generate_image_from_text(text)\n",
    "    except Exception as e:\n",
    "        logging.error('Error in generating image // ' + str(message.chat.id) + ' ' + str(e))\n",
    "        bot.send_message(message.chat.id, 'Ooops, something went wrong, try again please')\n",
    "        bot.register_next_step_handler(message, getText)\n",
    "        return\n",
    "    \n",
    "    logging.info('Picture generated // ' + str(message.chat.id))\n",
    "    \n",
    "    if str(message.chat.id) not in os.listdir(pic_path):\n",
    "        try:\n",
    "            os.mkdir(pic_path + str(message.chat.id))\n",
    "        except:\n",
    "            pass\n",
    "        logging.info('Created a directory // ' + str(message.chat.id))\n",
    "    \n",
    "    gen_pic_path = pic_path + str(message.chat.id) + '/' + text.replace(' ', '_')\n",
    "    \n",
    "    try:\n",
    "        generated_image.save(gen_pic_path + '.png')\n",
    "    except Exception as e:\n",
    "        logging.error('Failed to save image // ' + str(message.chat.id) + ' // ' + str(e))\n",
    "        bot.send_message(message.chat.id, 'Ooops, something went wrong, try again later please')\n",
    "        bot.register_next_step_handler(message, getText)\n",
    "        return\n",
    "    \n",
    "    logging.info('Saved a pic to ' + gen_pic_path)\n",
    "    \n",
    "    try:\n",
    "        bot.send_photo(message.chat.id, photo = open(gen_pic_path + '.png', 'rb'))\n",
    "    except Exception as e:\n",
    "        logging.error('Failed to send image // ' + str(message.chat.id) + ' // ' + str(e))\n",
    "        bot.send_message(message.chat.id, 'Ooops, we cannot deliver you a picture, try again later please')\n",
    "        bot.register_next_step_handler(message, getText)\n",
    "        return\n",
    "    return\n",
    "    \n",
    "@bot.message_handler(commands = ['notify'])\n",
    "def broadcast(message):\n",
    "    \n",
    "    logging.info('Broadcast received')\n",
    "    \n",
    "    if message.from_user.username != 'eles13':\n",
    "        return\n",
    "    try:\n",
    "        bot.send_message(message.chat.id, 'Ready for input')\n",
    "        bot.register_next_step_handler(message, broadcasting_itself)\n",
    "    except Exception as e:\n",
    "        logging.error('Broadcasting start failed // ' + str(e))\n",
    "\n",
    "def broadcasting_itself(message):\n",
    "    logging.info('Broadcast starting')\n",
    "    for idd in os.listdir(pic_path):\n",
    "        try:\n",
    "            bot.send_message(int(idd), message.text)\n",
    "        except Exception as e:\n",
    "            logging.error('Failed to deliver to ' + idd)\n",
    "            bot.send_message(message.chat.id, 'Failed to deliver to ' + idd)\n",
    "            continue\n",
    "    logging.info('Broadcast finished')\n",
    "    \n",
    "@bot.message_handler(commands = ['change'])\n",
    "def change_model_init(message):\n",
    "    logging.info('Change model request received')\n",
    "    bot.send_message(message.chat.id, 'Ready for input, send a shared Google Drive link')\n",
    "    logging.info('Replied to \"change model\" request')\n",
    "    try:\n",
    "        os.mkdir(all_models_path + 'model_' + str(len(os.listdir(all_models_path))))\n",
    "        logging.info('Created directory for a new model')\n",
    "    except:\n",
    "        logging.error('Failed to create a directory for a new model')\n",
    "        bot.send_message(message.chat.id, 'Try again, failed to create a directory for a new model')\n",
    "        return\n",
    "    bot.register_next_step_handler(message, download_and_change)\n",
    "    return\n",
    "\n",
    "def download_and_change(message):\n",
    "    global gan\n",
    "    link = str(message.text).split('/')[5]\n",
    "    logging.info('Received model link ' + link)\n",
    "    current_model_path = all_models_path + 'model_' + str(len(os.listdir(all_models_path)) - 1)\n",
    "    logging.info('Starting downloading')\n",
    "    bot.send_message(message.chat.id, 'Starting downloading')\n",
    "    try:\n",
    "        gdd.download_file_from_google_drive(file_id=link,\n",
    "                                        dest_path=current_model_path + '/archive.zip',\n",
    "                                        unzip=True)\n",
    "    except Exception as e:\n",
    "        bot.send_message(message.chat.id, 'Failed to download, send link again, exception ' + str(e))\n",
    "        bot.register_next_step_handler(download_and_change)\n",
    "        logging.error('Failed to download, exception ' + str(e))\n",
    "        return\n",
    "    logging.info('Finished downloading')\n",
    "    gan = DCGan()\n",
    "    gan.load_model(current_model_path)\n",
    "    logging.info('Model changed')\n",
    "    bot.send_message(message.chat.id, 'Successfully changed model to iteration ' + str(len(os.listdir(all_models_path)) - 1))\n",
    "    return\n",
    "    \n",
    "\n",
    "bot.polling(none_stop=True, interval = 0)\n",
    "\n"
   ]
  },
  {
   "cell_type": "code",
   "execution_count": null,
   "metadata": {},
   "outputs": [],
   "source": []
  }
 ],
 "metadata": {
  "kernelspec": {
   "display_name": "Python 3",
   "language": "python",
   "name": "python3"
  },
  "language_info": {
   "codemirror_mode": {
    "name": "ipython",
    "version": 3
   },
   "file_extension": ".py",
   "mimetype": "text/x-python",
   "name": "python",
   "nbconvert_exporter": "python",
   "pygments_lexer": "ipython3",
   "version": "3.7.5"
  }
 },
 "nbformat": 4,
 "nbformat_minor": 2
}
